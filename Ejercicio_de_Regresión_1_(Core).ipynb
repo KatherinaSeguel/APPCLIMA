{
  "nbformat": 4,
  "nbformat_minor": 0,
  "metadata": {
    "colab": {
      "provenance": [],
      "authorship_tag": "ABX9TyNvmga3pdtVYJNgTtkscu8s",
      "include_colab_link": true
    },
    "kernelspec": {
      "name": "python3",
      "display_name": "Python 3"
    },
    "language_info": {
      "name": "python"
    }
  },
  "cells": [
    {
      "cell_type": "markdown",
      "metadata": {
        "id": "view-in-github",
        "colab_type": "text"
      },
      "source": [
        "<a href=\"https://colab.research.google.com/github/KatherinaSeguel/APPCLIMA/blob/master/Ejercicio_de_Regresi%C3%B3n_1_(Core).ipynb\" target=\"_parent\"><img src=\"https://colab.research.google.com/assets/colab-badge.svg\" alt=\"Open In Colab\"/></a>"
      ]
    },
    {
      "cell_type": "code",
      "source": [
        "# Paso 1: Importar librerías\n",
        "import pandas as pd\n",
        "import matplotlib.pyplot as plt\n",
        "import seaborn as sns\n",
        "from sklearn.model_selection import train_test_split\n",
        "from sklearn.linear_model import LinearRegression\n",
        "from sklearn.metrics import mean_squared_error, r2_score\n",
        "\n",
        "# Paso 2: Cargar el archivo CSV\n",
        "df = pd.read_csv('C:\\Usuarios\\Kathy\\Descargas\\house-prices.csv')  # Asegúrate que el archivo esté en la misma carpeta\n",
        "\n",
        "# Paso 3: Seleccionar columnas relevantes\n",
        "df_model = df[['SqFt', 'Bedrooms', 'Bathrooms', 'Price']]\n",
        "\n",
        "# Paso 4: Verificar si hay datos nulos\n",
        "print(\"Valores nulos por columna:\")\n",
        "print(df_model.isnull().sum())\n",
        "\n",
        "# Paso 5: Estadísticas básicas\n",
        "print(\"\\nResumen estadístico:\")\n",
        "print(df_model.describe())\n",
        "\n",
        "# Paso 6: Visualizar relaciones\n",
        "sns.pairplot(df_model)\n",
        "plt.show()\n",
        "\n",
        "# Paso 7: Dividir datos en entrenamiento y prueba\n",
        "X = df_model[['SqFt', 'Bedrooms', 'Bathrooms']]\n",
        "y = df_model['Price']\n",
        "X_train, X_test, y_train, y_test = train_test_split(X, y, test_size=0.2, random_state=1)\n",
        "\n",
        "# Paso 8: Entrenar modelo de regresión lineal\n",
        "modelo = LinearRegression()\n",
        "modelo.fit(X_train, y_train)\n",
        "\n",
        "# Mostrar coeficientes\n",
        "print(\"\\nModelo entrenado:\")\n",
        "print(\"Intercepto:\", modelo.intercept_)\n",
        "for nombre, coef in zip(X.columns, modelo.coef_):\n",
        "    print(f\"{nombre}: {coef}\")\n",
        "\n",
        "# Paso 9: Evaluar el modelo\n",
        "y_pred = modelo.predict(X_test)\n",
        "mse = mean_squared_error(y_test, y_pred)\n",
        "r2 = r2_score(y_test, y_pred)\n",
        "\n",
        "print(f\"\\nEvaluación del modelo:\")\n",
        "print(f\"Error Cuadrático Medio (MSE): {mse:.2f}\")\n",
        "print(f\"Coeficiente de Determinación (R²): {r2:.2f}\")\n",
        "\n",
        "# Paso 10: Hacer una predicción\n",
        "nueva_casa = [[2000, 3, 2]]\n",
        "precio_estimado = modelo.predict(nueva_casa)\n",
        "\n",
        "print(f\"\\nPredicción para casa de 2000 sqft, 3 habitaciones y 2 baños:\")\n",
        "print(f\"Precio estimado: ${precio_estimado[0]:,.2f}\")\n"
      ],
      "metadata": {
        "colab": {
          "base_uri": "https://localhost:8080/",
          "height": 106
        },
        "id": "pM02Uo5rt_Ei",
        "outputId": "0d489513-9a6e-4d89-d0f5-23a2a6d07120"
      },
      "execution_count": 45,
      "outputs": [
        {
          "output_type": "error",
          "ename": "SyntaxError",
          "evalue": "(unicode error) 'unicodeescape' codec can't decode bytes in position 2-3: truncated \\UXXXXXXXX escape (ipython-input-45-2283808202.py, line 10)",
          "traceback": [
            "\u001b[0;36m  File \u001b[0;32m\"/tmp/ipython-input-45-2283808202.py\"\u001b[0;36m, line \u001b[0;32m10\u001b[0m\n\u001b[0;31m    df = pd.read_csv('C:\\Usuarios\\Kathy\\Descargas\\house-prices.csv')  # Asegúrate que el archivo esté en la misma carpeta\u001b[0m\n\u001b[0m                                                                   ^\u001b[0m\n\u001b[0;31mSyntaxError\u001b[0m\u001b[0;31m:\u001b[0m (unicode error) 'unicodeescape' codec can't decode bytes in position 2-3: truncated \\UXXXXXXXX escape\n"
          ]
        }
      ]
    }
  ]
}